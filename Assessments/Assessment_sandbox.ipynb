{
 "metadata": {
  "language_info": {
   "codemirror_mode": {
    "name": "ipython",
    "version": 3
   },
   "file_extension": ".py",
   "mimetype": "text/x-python",
   "name": "python",
   "nbconvert_exporter": "python",
   "pygments_lexer": "ipython3",
   "version": "3.8.3-final"
  },
  "orig_nbformat": 2,
  "kernelspec": {
   "name": "python3",
   "display_name": "Python 3"
  }
 },
 "nbformat": 4,
 "nbformat_minor": 2,
 "cells": [
  {
   "cell_type": "code",
   "execution_count": 12,
   "metadata": {},
   "outputs": [],
   "source": [
    "import numpy as np\n",
    "import pandas as pd\n",
    "import matplotlib.pyplot as plt \n",
    "import scipy.stats as stats"
   ]
  },
  {
   "cell_type": "code",
   "execution_count": 6,
   "metadata": {},
   "outputs": [],
   "source": [
    "z=[3,2,1]"
   ]
  },
  {
   "cell_type": "code",
   "execution_count": 10,
   "metadata": {},
   "outputs": [],
   "source": [
    "a=pd.DataFrame(z, columns=['first'])"
   ]
  },
  {
   "source": [
    "Given a dictionary d, return a new dictionary with d's values\n",
    "    as keys and the value for a given key being\n",
    "    the set of d's keys which shared the same value.\n",
    "\n",
    "    Parameters\n",
    "    ----------\n",
    "    d: dict\n",
    "\n",
    "    Returns\n",
    "    -------\n",
    "    dict\n",
    "        A dictionary of sets of input keys indexing the same input values\n",
    "        indexed by the input values.\n",
    "\n",
    "\n",
    "    >>>invert_dictionary({'a': 2, 'b': 4, 'c': 2})\n",
    "    {2: {'a', 'c'}, 4: {'b'}}\n",
    "    '''\n",
    "    #https://www.techbeamers.com/search-keys-dictionary-python/\n",
    "    new_dict={}\n",
    "    \n",
    "    for i in d.keys():\n",
    "        keysList = []\n",
    "        new_key=d[i]\n",
    "        #itemsList = dict.items()\n",
    "        for item in d.keys():\n",
    "            if d[item] == new_key:\n",
    "                keysList.append(item)\n",
    "        \n",
    "\n",
    "        new_dict[new_key]=keysList\n",
    "\n",
    "        return new_dict"
   ],
   "cell_type": "markdown",
   "metadata": {}
  },
  {
   "cell_type": "code",
   "execution_count": 13,
   "metadata": {},
   "outputs": [],
   "source": [
    "d={'a': 2, 'b': 4, 'c': 2}"
   ]
  },
  {
   "cell_type": "code",
   "execution_count": 15,
   "metadata": {},
   "outputs": [],
   "source": [
    "new_dict={}\n",
    "for i in d.keys():\n",
    "    keysList = []\n",
    "    new_key=d[i]\n",
    "    #itemsList = dict.items()\n",
    "    for item in d.keys():\n",
    "        if d[item] == new_key:\n",
    "            keysList.append(item)\n",
    "    \n",
    "\n",
    "    new_dict[new_key]=keysList"
   ]
  },
  {
   "cell_type": "code",
   "execution_count": 16,
   "metadata": {},
   "outputs": [
    {
     "output_type": "execute_result",
     "data": {
      "text/plain": [
       "{2: ['a', 'c'], 4: ['b']}"
      ]
     },
     "metadata": {},
     "execution_count": 16
    }
   ],
   "source": [
    "new_dict"
   ]
  },
  {
   "cell_type": "code",
   "execution_count": 17,
   "metadata": {},
   "outputs": [],
   "source": [
    "A = [[2, 3, 4], [6, 4, 2], [-1, 2, 0]] "
   ]
  },
  {
   "cell_type": "code",
   "execution_count": 19,
   "metadata": {},
   "outputs": [],
   "source": [
    "B = [[2, 3, 4], [6, 4, 2], [-1, 2, 0]] "
   ]
  },
  {
   "cell_type": "code",
   "execution_count": null,
   "metadata": {},
   "outputs": [],
   "source": [
    "    new_mat=[]\n",
    "    new_row=[]\n",
    "    a_sum=[]\n",
    "    for i,a_row in enumerate(A):\n",
    "        in_sum=0\n",
    "        for j,a_col in enumerate(a_row):\n",
    "            in_sum+=(a_col*B[j][*])\n",
    "        new_row.append(in_sum)\n",
    "    new_mat.append(new_row)\n"
   ]
  },
  {
   "cell_type": "code",
   "execution_count": 22,
   "metadata": {},
   "outputs": [
    {
     "output_type": "stream",
     "name": "stdout",
     "text": [
      "[[18, 26, 14], [34, 38, 32], [10, 5, 0]]\n"
     ]
    }
   ],
   "source": [
    "new_mat=[]\n",
    "new_row=[]\n",
    "\n",
    "for i,a_row in enumerate(A):\n",
    "    for x,b_col in enumerate(B):\n",
    "        in_sum=0\n",
    "        for j,a_col in enumerate(a_row):\n",
    "            in_sum+=(a_col*B[j][x])\n",
    "        new_row.append(in_sum)\n",
    "\n",
    "    new_mat.append(new_row)\n",
    "    new_row=[]\n",
    "print(new_mat)"
   ]
  },
  {
   "cell_type": "code",
   "execution_count": 31,
   "metadata": {},
   "outputs": [],
   "source": [
    "finRow=2\n",
    "finCol=2\n",
    "arr = np.array([[ -4,  -3,  11],\n",
    "                       [ 14,   2, -11],\n",
    "                       [-17,  10,   3]])\n",
    "\n",
    "#new_array=arr[finRow:-1, finCol:-1]\n",
    "new_array=np.flip(arr,axis=0)[0:finRow, 0:finCol]\n",
    "#return new_array"
   ]
  },
  {
   "cell_type": "code",
   "execution_count": 32,
   "metadata": {},
   "outputs": [
    {
     "output_type": "stream",
     "name": "stdout",
     "text": [
      "[[-17  10]\n [ 14   2]]\n"
     ]
    }
   ],
   "source": [
    "print(new_array)"
   ]
  },
  {
   "cell_type": "code",
   "execution_count": null,
   "metadata": {},
   "outputs": [],
   "source": []
  }
 ]
}