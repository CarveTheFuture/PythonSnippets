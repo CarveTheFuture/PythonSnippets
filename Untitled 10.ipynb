{
 "cells": [
  {
   "cell_type": "markdown",
   "metadata": {},
   "source": [
    "Create a Polynomial class with two methods: __init__ and __repr__. The first should allow you to initialize a new Polynomial object with a list, so Polynomial([3,2,1]) creates the equivalent of x^2 + 2x + 3. The second should convert it to a string that could be used to create that same object, so Polynomial([3,2,1]).__repr__() will return the string \"Polynomial([3,2,1])\".\n",
    "\n",
    "We've suggested you enter the coefficients with the lowest-exponent terms first, i.e. Polynomial([3,0,-2,1]) is 3 - 2x^2 + x^3. Breaking this down even more: 3 * x^0 + 0 * x^1 + (-2) * x^2 + 1 * x^3. And even more abstractly: Polynomial([C0,C1,C2,C3,C4,C5]) = C0 * x^0 + C1 * x^1 + C2 * x^2 + C3 * x^3 + C4 * x^4 + C5 * x^5 and so on."
   ]
  },
  {
   "cell_type": "code",
   "execution_count": null,
   "metadata": {},
   "outputs": [],
   "source": [
    "factors=[]\n",
    "class Polynomial():\n",
    "    def __init--(self,factors):\n",
    "        self.factors=factors\n",
    "        self.length=len(factors)\n",
    "    def __repr--(self,factors):\n",
    "        self.text=\"Polynomial([3,2,1])\"\n",
    "    def polynomial(x): \n",
    "        sum=0\n",
    "        for index,factor in enumerate(factors):\n",
    "            sum=sum+factor*x**index\n",
    "            return sum\n",
    "     drf __add__, __sub__, and __neg__\n"
   ]
  },
  {
   "cell_type": "code",
   "execution_count": 4,
   "metadata": {},
   "outputs": [],
   "source": [
    "C0=1\n",
    "C1=2\n",
    "C2=3\n",
    "C3=4\n",
    "C4=5\n",
    "C5=6\n",
    "def polynomial(x): \n",
    "    return C0 * x**0 + C1 * x**1 + C2 * x**2 + C3 * x**3 + C4 * x**4 + C5 * x**5"
   ]
  },
  {
   "cell_type": "code",
   "execution_count": 5,
   "metadata": {},
   "outputs": [
    {
     "data": {
      "text/plain": [
       "22461"
      ]
     },
     "execution_count": 5,
     "metadata": {},
     "output_type": "execute_result"
    }
   ],
   "source": [
    "polynomial(5)"
   ]
  }
 ],
 "metadata": {
  "kernelspec": {
   "display_name": "Python 3",
   "language": "python",
   "name": "python3"
  },
  "language_info": {
   "codemirror_mode": {
    "name": "ipython",
    "version": 3
   },
   "file_extension": ".py",
   "mimetype": "text/x-python",
   "name": "python",
   "nbconvert_exporter": "python",
   "pygments_lexer": "ipython3",
   "version": "3.7.1"
  }
 },
 "nbformat": 4,
 "nbformat_minor": 2
}
