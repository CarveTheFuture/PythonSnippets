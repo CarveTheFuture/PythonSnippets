{
 "cells": [
  {
   "cell_type": "markdown",
   "metadata": {},
   "source": [
    "Create a Polynomial class with two methods: __init__ and __repr__. The first should allow you to initialize a new Polynomial object with a list, so Polynomial([3,2,1]) creates the equivalent of x^2 + 2x + 3. The second should convert it to a string that could be used to create that same object, so Polynomial([3,2,1]).__repr__() will return the string \"Polynomial([3,2,1])\".\n",
    "\n",
    "We've suggested you enter the coefficients with the lowest-exponent terms first, i.e. Polynomial([3,0,-2,1]) is 3 - 2x^2 + x^3. Breaking this down even more: 3 * x^0 + 0 * x^1 + (-2) * x^2 + 1 * x^3. And even more abstractly: Polynomial([C0,C1,C2,C3,C4,C5]) = C0 * x^0 + C1 * x^1 + C2 * x^2 + C3 * x^3 + C4 * x^4 + C5 * x^5 and so on."
   ]
  },
  {
   "cell_type": "code",
   "execution_count": 5,
   "metadata": {},
   "outputs": [],
   "source": [
    "import numpy as np\n",
    "class Polynomial():\n",
    "    def __init__(self,factors):\n",
    "        self.factors=factors\n",
    "    def __repr__(self,factors):\n",
    "        self.text=\"Polynomial([3,2,1])\"\n",
    "    def evaluate(self,x):\n",
    "        sum=0\n",
    "        for index,factor in enumerate(self.factors):\n",
    "            sum=sum+factor*x**index\n",
    "        return sum\n",
    "    def __add__(self,other):\n",
    "        sum_array=np.array([self.factors]) + np.array([other.factors])\n",
    "        sum_list=sum_array.tolist()\n",
    "        return sum_list\n",
    "    \n",
    "    def __sub__(self,other):\n",
    "        sum_array=np.array([self.factors]) - np.array([other.factors])\n",
    "        sum_list=sum_array.tolist()\n",
    "        return sum_list\n",
    "    def __neg__(self):\n",
    "        sum_array=-1*np.array([self.factors])\n",
    "        sum_list=sum_array.tolist()\n",
    "        return sum_list\n",
    "    def __eq__(self,other):\n",
    "        sum_array=np.array_equal(np.array([self.factors]),np.array([other.factors]))\n",
    "        return sum_array\n",
    "    \n",
    "        \n",
    "            \n",
    "    "
   ]
  },
  {
   "cell_type": "code",
   "execution_count": 6,
   "metadata": {},
   "outputs": [],
   "source": [
    "tester=Polynomial([1,2,3])"
   ]
  },
  {
   "cell_type": "code",
   "execution_count": null,
   "metadata": {},
   "outputs": [],
   "source": [
    "print(tester.evaluate(4))"
   ]
  },
  {
   "cell_type": "code",
   "execution_count": 7,
   "metadata": {},
   "outputs": [
    {
     "name": "stdout",
     "output_type": "stream",
     "text": [
      "True\n"
     ]
    }
   ],
   "source": [
    "print(tester==tester)"
   ]
  }
 ],
 "metadata": {
  "kernelspec": {
   "display_name": "Python 3",
   "language": "python",
   "name": "python3"
  },
  "language_info": {
   "codemirror_mode": {
    "name": "ipython",
    "version": 3
   },
   "file_extension": ".py",
   "mimetype": "text/x-python",
   "name": "python",
   "nbconvert_exporter": "python",
   "pygments_lexer": "ipython3",
   "version": "3.7.1"
  }
 },
 "nbformat": 4,
 "nbformat_minor": 2
}
