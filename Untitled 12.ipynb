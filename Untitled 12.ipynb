{
 "cells": [
  {
   "cell_type": "markdown",
   "metadata": {},
   "source": [
    "Given an infinite number of US coins (coins = [1, 5, 10, 25]) and an amount value in cents, what are minimum number of coins needed to make change for value? Write a function find_change that takes as input the coin denominations coins, and value as the amount in cents. Your function should return the minimum amount of coins necessary to make change for the specified value as an integer.\n",
    "Example\n",
    "\n",
    "coins = [1, 5, 10, 25]\n",
    "\n",
    "In [23]: find_change(coins, 100)\n",
    "4\n",
    "\n",
    "In [24]: find_change(coins, 74)\n",
    "8"
   ]
  },
  {
   "cell_type": "code",
   "execution_count": 6,
   "metadata": {},
   "outputs": [],
   "source": [
    "coins = [1, 5, 10, 25]"
   ]
  },
  {
   "cell_type": "markdown",
   "metadata": {},
   "source": [
    "value=23\n",
    "change=100-value\n",
    "remnant=change%max(coins)\n",
    "print (\"r\",(remnant))\n",
    "tally=change//max(coins)\n",
    "print(\"tally\",tally)\n",
    "coins.remove(max(coins))\n",
    "print(coins)\n",
    "while remnant>0 and len (coins)>0:\n",
    "    new_remnant=remnant\n",
    "    print(coins)\n",
    "    remnant=remnant%max(coins)\n",
    "    tally=tally+remnant//max(coins)\n",
    "    print(\"tally\",tally)\n",
    "    print (\"r\",(remnant),'nr',(new_remnant))\n",
    "\n",
    "    print(\"check\",remnant//max(coins),\"max\",max(coins))\n",
    "    print(\"tally\",tally)e77er5r5545r\n",
    "\n",
    "    coins.remove(max(coins))\n",
    "\n",
    "\n",
    "tally=tally+remnant//max(coins)\n",
    "        "
   ]
  },
  {
   "cell_type": "code",
   "execution_count": 11,
   "metadata": {},
   "outputs": [
    {
     "ename": "ValueError",
     "evalue": "max() arg is an empty sequence",
     "output_type": "error",
     "traceback": [
      "\u001b[0;31m---------------------------------------------------------------------------\u001b[0m",
      "\u001b[0;31mValueError\u001b[0m                                Traceback (most recent call last)",
      "\u001b[0;32m<ipython-input-11-9005d7d17da3>\u001b[0m in \u001b[0;36m<module>\u001b[0;34m\u001b[0m\n\u001b[0;32m----> 1\u001b[0;31m \u001b[0mmax\u001b[0m\u001b[0;34m(\u001b[0m\u001b[0mcoins\u001b[0m\u001b[0;34m)\u001b[0m\u001b[0;34m\u001b[0m\u001b[0;34m\u001b[0m\u001b[0m\n\u001b[0m",
      "\u001b[0;31mValueError\u001b[0m: max() arg is an empty sequence"
     ]
    }
   ],
   "source": [
    "max(coins)"
   ]
  },
  {
   "cell_type": "code",
   "execution_count": null,
   "metadata": {},
   "outputs": [],
   "source": []
  }
 ],
 "metadata": {
  "kernelspec": {
   "display_name": "Python 3",
   "language": "python",
   "name": "python3"
  },
  "language_info": {
   "codemirror_mode": {
    "name": "ipython",
    "version": 3
   },
   "file_extension": ".py",
   "mimetype": "text/x-python",
   "name": "python",
   "nbconvert_exporter": "python",
   "pygments_lexer": "ipython3",
   "version": "3.7.1"
  }
 },
 "nbformat": 4,
 "nbformat_minor": 2
}
